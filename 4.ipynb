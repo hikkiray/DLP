{
  "cells": [
    {
      "cell_type": "markdown",
      "metadata": {
        "id": "Kcw4sbmSEw7C"
      },
      "source": [
        "### Задание 1. Поиск и описание датасета.\n",
        "На основе предоставленного файла \"Road Accident Data.csv\", мы проверим, удовлетворяет ли он условиям:\n",
        "1. Более 10 000 строк.\n",
        "2. Более 20 столбцов.\n",
        "3. Разные типы данных в столбцах.\n",
        "4. Наличие целевого признака (таргета).\n",
        "\n",
        "### Задание 2. Классификация с использованием метода k-ближайших соседей (k-NN).\n",
        "После проверки датасета, если он соответствует условиям, проведем классификацию с использованием k-NN. Подробно опишем выбранные гиперпараметры и проведем перекрестную проверку (cross-validation).\n",
        "\n",
        "Начнем с проверки датасета."
      ]
    },
    {
      "cell_type": "code",
      "execution_count": 7,
      "metadata": {
        "colab": {
          "base_uri": "https://localhost:8080/"
        },
        "id": "goZrfejpC5Wk",
        "outputId": "c722189d-96a5-419c-f307-2281374b7d98"
      },
      "outputs": [
        {
          "output_type": "stream",
          "name": "stdout",
          "text": [
            "<class 'pandas.core.frame.DataFrame'>\n",
            "RangeIndex: 307973 entries, 0 to 307972\n",
            "Data columns (total 21 columns):\n",
            " #   Column                      Non-Null Count   Dtype  \n",
            "---  ------                      --------------   -----  \n",
            " 0   Accident_Index              307973 non-null  object \n",
            " 1   Accident_Date               301077 non-null  object \n",
            " 2   Day_of_Week                 301077 non-null  object \n",
            " 3   Junction_Control            301077 non-null  object \n",
            " 4   Junction_Detail             301077 non-null  object \n",
            " 5   Accident_Severity           301077 non-null  object \n",
            " 6   Latitude                    301077 non-null  float64\n",
            " 7   Light_Conditions            301077 non-null  object \n",
            " 8   Local_Authority_(District)  301077 non-null  object \n",
            " 9   Carriageway_Hazards         5322 non-null    object \n",
            " 10  Longitude                   301077 non-null  float64\n",
            " 11  Number_of_Casualties        301077 non-null  float64\n",
            " 12  Number_of_Vehicles          301077 non-null  float64\n",
            " 13  Police_Force                301077 non-null  object \n",
            " 14  Road_Surface_Conditions     300760 non-null  object \n",
            " 15  Road_Type                   299578 non-null  object \n",
            " 16  Speed_limit                 301077 non-null  float64\n",
            " 17  Time                        301060 non-null  object \n",
            " 18  Urban_or_Rural_Area         301077 non-null  object \n",
            " 19  Weather_Conditions          295171 non-null  object \n",
            " 20  Vehicle_Type                301077 non-null  object \n",
            "dtypes: float64(5), object(16)\n",
            "memory usage: 49.3+ MB\n"
          ]
        },
        {
          "output_type": "execute_result",
          "data": {
            "text/plain": [
              "(None, (307973, 21))"
            ]
          },
          "metadata": {},
          "execution_count": 7
        }
      ],
      "source": [
        "import pandas as pd\n",
        "\n",
        "# Загрузка датасета\n",
        "file_path = 'Road Accident Data.csv'\n",
        "data = pd.read_csv(file_path)\n",
        "\n",
        "# Проверка информации о датасете\n",
        "data_info = data.info()\n",
        "data_shape = data.shape\n",
        "\n",
        "data_info, data_shape"
      ]
    },
    {
      "cell_type": "markdown",
      "metadata": {
        "id": "897OwndMFGMG"
      },
      "source": [
        "### Результаты проверки датасета:\n",
        "1. Количество строк: 307,973.\n",
        "2. Количество столбцов: 21.\n",
        "3. Типы данных: в датасете присутствуют как числовые (float64), так и строковые (object) типы данных.\n",
        "4. Наличие целевого признака: предполагаем, что целевым признаком может быть столбец Accident_Severity, который может быть использован для классификации аварий по степени тяжести.\n",
        "\n",
        "Таким образом, датасет удовлетворяет всем условиям задания. Следующим шагом будет проведение классификации с использованием метода k-ближайших соседей (k-NN).\n",
        "\n",
        "Теперь мы проведем предобработку данных, выберем соответствующие признаки и целевой столбец, и выполним классификацию с использованием метода k-NN.\n",
        "\n",
        "Начнем с предобработки данных."
      ]
    },
    {
      "cell_type": "code",
      "execution_count": 8,
      "metadata": {
        "colab": {
          "base_uri": "https://localhost:8080/"
        },
        "id": "p3LdRELLDZt1",
        "outputId": "2f54b6ac-32b1-4857-f3a3-ab07a95c6c86"
      },
      "outputs": [
        {
          "output_type": "stream",
          "name": "stderr",
          "text": [
            "<ipython-input-8-6fb4790a2531>:20: SettingWithCopyWarning: \n",
            "A value is trying to be set on a copy of a slice from a DataFrame.\n",
            "Try using .loc[row_indexer,col_indexer] = value instead\n",
            "\n",
            "See the caveats in the documentation: https://pandas.pydata.org/pandas-docs/stable/user_guide/indexing.html#returning-a-view-versus-a-copy\n",
            "  X[column] = le.fit_transform(X[column].astype(str))\n",
            "<ipython-input-8-6fb4790a2531>:20: SettingWithCopyWarning: \n",
            "A value is trying to be set on a copy of a slice from a DataFrame.\n",
            "Try using .loc[row_indexer,col_indexer] = value instead\n",
            "\n",
            "See the caveats in the documentation: https://pandas.pydata.org/pandas-docs/stable/user_guide/indexing.html#returning-a-view-versus-a-copy\n",
            "  X[column] = le.fit_transform(X[column].astype(str))\n",
            "<ipython-input-8-6fb4790a2531>:20: SettingWithCopyWarning: \n",
            "A value is trying to be set on a copy of a slice from a DataFrame.\n",
            "Try using .loc[row_indexer,col_indexer] = value instead\n",
            "\n",
            "See the caveats in the documentation: https://pandas.pydata.org/pandas-docs/stable/user_guide/indexing.html#returning-a-view-versus-a-copy\n",
            "  X[column] = le.fit_transform(X[column].astype(str))\n",
            "<ipython-input-8-6fb4790a2531>:20: SettingWithCopyWarning: \n",
            "A value is trying to be set on a copy of a slice from a DataFrame.\n",
            "Try using .loc[row_indexer,col_indexer] = value instead\n",
            "\n",
            "See the caveats in the documentation: https://pandas.pydata.org/pandas-docs/stable/user_guide/indexing.html#returning-a-view-versus-a-copy\n",
            "  X[column] = le.fit_transform(X[column].astype(str))\n",
            "<ipython-input-8-6fb4790a2531>:20: SettingWithCopyWarning: \n",
            "A value is trying to be set on a copy of a slice from a DataFrame.\n",
            "Try using .loc[row_indexer,col_indexer] = value instead\n",
            "\n",
            "See the caveats in the documentation: https://pandas.pydata.org/pandas-docs/stable/user_guide/indexing.html#returning-a-view-versus-a-copy\n",
            "  X[column] = le.fit_transform(X[column].astype(str))\n",
            "<ipython-input-8-6fb4790a2531>:20: SettingWithCopyWarning: \n",
            "A value is trying to be set on a copy of a slice from a DataFrame.\n",
            "Try using .loc[row_indexer,col_indexer] = value instead\n",
            "\n",
            "See the caveats in the documentation: https://pandas.pydata.org/pandas-docs/stable/user_guide/indexing.html#returning-a-view-versus-a-copy\n",
            "  X[column] = le.fit_transform(X[column].astype(str))\n",
            "<ipython-input-8-6fb4790a2531>:20: SettingWithCopyWarning: \n",
            "A value is trying to be set on a copy of a slice from a DataFrame.\n",
            "Try using .loc[row_indexer,col_indexer] = value instead\n",
            "\n",
            "See the caveats in the documentation: https://pandas.pydata.org/pandas-docs/stable/user_guide/indexing.html#returning-a-view-versus-a-copy\n",
            "  X[column] = le.fit_transform(X[column].astype(str))\n",
            "<ipython-input-8-6fb4790a2531>:20: SettingWithCopyWarning: \n",
            "A value is trying to be set on a copy of a slice from a DataFrame.\n",
            "Try using .loc[row_indexer,col_indexer] = value instead\n",
            "\n",
            "See the caveats in the documentation: https://pandas.pydata.org/pandas-docs/stable/user_guide/indexing.html#returning-a-view-versus-a-copy\n",
            "  X[column] = le.fit_transform(X[column].astype(str))\n",
            "<ipython-input-8-6fb4790a2531>:20: SettingWithCopyWarning: \n",
            "A value is trying to be set on a copy of a slice from a DataFrame.\n",
            "Try using .loc[row_indexer,col_indexer] = value instead\n",
            "\n",
            "See the caveats in the documentation: https://pandas.pydata.org/pandas-docs/stable/user_guide/indexing.html#returning-a-view-versus-a-copy\n",
            "  X[column] = le.fit_transform(X[column].astype(str))\n",
            "<ipython-input-8-6fb4790a2531>:20: SettingWithCopyWarning: \n",
            "A value is trying to be set on a copy of a slice from a DataFrame.\n",
            "Try using .loc[row_indexer,col_indexer] = value instead\n",
            "\n",
            "See the caveats in the documentation: https://pandas.pydata.org/pandas-docs/stable/user_guide/indexing.html#returning-a-view-versus-a-copy\n",
            "  X[column] = le.fit_transform(X[column].astype(str))\n",
            "<ipython-input-8-6fb4790a2531>:20: SettingWithCopyWarning: \n",
            "A value is trying to be set on a copy of a slice from a DataFrame.\n",
            "Try using .loc[row_indexer,col_indexer] = value instead\n",
            "\n",
            "See the caveats in the documentation: https://pandas.pydata.org/pandas-docs/stable/user_guide/indexing.html#returning-a-view-versus-a-copy\n",
            "  X[column] = le.fit_transform(X[column].astype(str))\n",
            "<ipython-input-8-6fb4790a2531>:20: SettingWithCopyWarning: \n",
            "A value is trying to be set on a copy of a slice from a DataFrame.\n",
            "Try using .loc[row_indexer,col_indexer] = value instead\n",
            "\n",
            "See the caveats in the documentation: https://pandas.pydata.org/pandas-docs/stable/user_guide/indexing.html#returning-a-view-versus-a-copy\n",
            "  X[column] = le.fit_transform(X[column].astype(str))\n"
          ]
        },
        {
          "output_type": "execute_result",
          "data": {
            "text/plain": [
              "((210753, 17), (90324, 17), (210753,), (90324,))"
            ]
          },
          "metadata": {},
          "execution_count": 8
        }
      ],
      "source": [
        "from sklearn.model_selection import train_test_split\n",
        "from sklearn.preprocessing import LabelEncoder, StandardScaler\n",
        "from sklearn.impute import SimpleImputer\n",
        "\n",
        "# Выбор целевого признака и предикторов\n",
        "target_column = 'Accident_Severity'\n",
        "features_columns = data.columns.difference([target_column, 'Accident_Index', 'Accident_Date', 'Time'])  # исключение столбцов с уникальными значениями и временем\n",
        "\n",
        "# Удаление строк с отсутствующими значениями в целевом признаке\n",
        "data = data.dropna(subset=[target_column])\n",
        "\n",
        "# Разделение данных на предикторы и целевой признак\n",
        "X = data[features_columns]\n",
        "y = data[target_column]\n",
        "\n",
        "# Обработка категориальных переменных\n",
        "label_encoders = {}\n",
        "for column in X.select_dtypes(include=['object']).columns:\n",
        "    le = LabelEncoder()\n",
        "    X[column] = le.fit_transform(X[column].astype(str))\n",
        "    label_encoders[column] = le\n",
        "\n",
        "# Заполнение пропусков\n",
        "imputer = SimpleImputer(strategy='mean')\n",
        "X = pd.DataFrame(imputer.fit_transform(X), columns=X.columns)\n",
        "\n",
        "# Масштабирование данных\n",
        "scaler = StandardScaler()\n",
        "X = pd.DataFrame(scaler.fit_transform(X), columns=X.columns)\n",
        "\n",
        "# Разделение на обучающую и тестовую выборки\n",
        "X_train, X_test, y_train, y_test = train_test_split(X, y, test_size=0.3, random_state=42, stratify=y)\n",
        "\n",
        "# Результаты предварительной обработки\n",
        "X_train.shape, X_test.shape, y_train.shape, y_test.shape"
      ]
    },
    {
      "cell_type": "markdown",
      "metadata": {
        "id": "FYO2OGTdFpmq"
      },
      "source": [
        "### Предобработка данных завершена:\n",
        "Размер обучающей выборки: 210,753 строк и 17 признаков.\n",
        "\n",
        "Размер тестовой выборки: 90,324 строк и 17 признаков.\n",
        "\n",
        "Теперь можно приступить к классификации с использованием метода k-ближайших соседей (k-NN).\n",
        "### Выбор гиперпараметров и выполнение классификации:\n",
        "\n",
        "1. Выбор числа соседей (k): в качестве начального значения мы выберем k = 3. Однако, мы можем использовать перекрестную проверку (cross-validation) для подбора оптимального значения.\n",
        "2. Перекрестная проверка (cross-validation): будет использована для подбора оптимального значения параметра k и оценки стабильности модели."
      ]
    },
    {
      "cell_type": "code",
      "execution_count": 9,
      "metadata": {
        "colab": {
          "base_uri": "https://localhost:8080/"
        },
        "id": "I-heBuLOI60A",
        "outputId": "42e837a9-8357-43e5-9505-86933926b1b1"
      },
      "outputs": [
        {
          "output_type": "stream",
          "name": "stderr",
          "text": [
            "/usr/local/lib/python3.10/dist-packages/sklearn/metrics/_classification.py:1471: UndefinedMetricWarning: Precision and F-score are ill-defined and being set to 0.0 in labels with no predicted samples. Use `zero_division` parameter to control this behavior.\n",
            "  _warn_prf(average, modifier, msg_start, len(result))\n",
            "/usr/local/lib/python3.10/dist-packages/sklearn/metrics/_classification.py:1471: UndefinedMetricWarning: Precision and F-score are ill-defined and being set to 0.0 in labels with no predicted samples. Use `zero_division` parameter to control this behavior.\n",
            "  _warn_prf(average, modifier, msg_start, len(result))\n",
            "/usr/local/lib/python3.10/dist-packages/sklearn/metrics/_classification.py:1471: UndefinedMetricWarning: Precision and F-score are ill-defined and being set to 0.0 in labels with no predicted samples. Use `zero_division` parameter to control this behavior.\n",
            "  _warn_prf(average, modifier, msg_start, len(result))\n"
          ]
        },
        {
          "output_type": "execute_result",
          "data": {
            "text/plain": [
              "(KNeighborsClassifier(n_neighbors=9),\n",
              " 0.8474602541960055,\n",
              " '              precision    recall  f1-score   support\\n\\n       Fatal       0.07      0.00      0.00      1153\\n       Fetal       0.00      0.00      0.00        15\\n     Serious       0.24      0.02      0.04     11990\\n      Slight       0.86      0.99      0.92     77166\\n\\n    accuracy                           0.85     90324\\n   macro avg       0.29      0.25      0.24     90324\\nweighted avg       0.76      0.85      0.79     90324\\n')"
            ]
          },
          "metadata": {},
          "execution_count": 9
        }
      ],
      "source": [
        "from sklearn.neighbors import KNeighborsClassifier\n",
        "from sklearn.model_selection import GridSearchCV\n",
        "from sklearn.metrics import classification_report, accuracy_score\n",
        "\n",
        "# Создание модели k-NN\n",
        "knn = KNeighborsClassifier()\n",
        "\n",
        "# Параметры для перебора с использованием GridSearchCV\n",
        "param_grid_optimized = {'n_neighbors': range(3, 10)}\n",
        "\n",
        "# Уменьшение размера данных (10% от полного набора данных)\n",
        "X_train_small, _, y_train_small, _ = train_test_split(X_train, y_train, test_size=0.9, random_state=42, stratify=y_train)\n",
        "\n",
        "# Настройка GridSearchCV\n",
        "grid_search_optimized = GridSearchCV(knn, param_grid_optimized, cv=3, scoring='accuracy', n_jobs=-1)\n",
        "grid_search_optimized.fit(X_train_small, y_train_small)\n",
        "\n",
        "# Лучшая модель\n",
        "best_knn_optimized = grid_search_optimized.best_estimator_\n",
        "\n",
        "# Предсказания на тестовой выборке\n",
        "y_pred_optimized = best_knn_optimized.predict(X_test)\n",
        "\n",
        "# Оценка качества модели\n",
        "accuracy_optimized = accuracy_score(y_test, y_pred_optimized)\n",
        "report_optimized = classification_report(y_test, y_pred_optimized)\n",
        "\n",
        "best_knn_optimized, accuracy_optimized, report_optimized"
      ]
    },
    {
      "cell_type": "markdown",
      "metadata": {
        "id": "QgKO7coWF8hi"
      },
      "source": [
        "1. Предупреждения о метриках: сообщение об ошибке указывает на то, что модель не смогла предсказать некоторые классы (Fatal, Fetal) или предсказания для этих классов были неточными. Это может быть связано с тем, что данные несбалансированы, и модель предпочитает предсказывать доминирующий класс (Slight).\n",
        "\n",
        "2. Результаты классификации:\n",
        "\n",
        "Точность (Accuracy): модель достигла точности примерно 84.7%, что может показаться хорошим результатом, но это в основном связано с тем, что большинство примеров принадлежат к классу Slight.\n",
        "\n",
        "F1-score: низкий F1-score для классов Fatal, Fetal и Serious указывает на то, что модель плохо справляется с классификацией этих классов."
      ]
    },
    {
      "cell_type": "markdown",
      "metadata": {
        "id": "13cLZ8wLRyZ2"
      },
      "source": [
        "### Задание 3. Классификация с использованием метода машины опорных векторов (SVM).\n",
        "Теперь проведем классификацию с использованием метода SVM. Подробно опишем выбранные гиперпараметры и проведем перекрестную проверку (cross-validation).\n",
        "\n",
        "### Предобработка данных:\n",
        "Используем те же предобработанные данные, которые были получены в предыдущем шаге."
      ]
    },
    {
      "cell_type": "code",
      "execution_count": 10,
      "metadata": {
        "colab": {
          "base_uri": "https://localhost:8080/"
        },
        "id": "zUybqxilR2Ha",
        "outputId": "a30008fc-753a-4241-910a-d9a1dd49c10e"
      },
      "outputs": [
        {
          "output_type": "stream",
          "name": "stderr",
          "text": [
            "/usr/local/lib/python3.10/dist-packages/sklearn/metrics/_classification.py:1471: UndefinedMetricWarning: Precision and F-score are ill-defined and being set to 0.0 in labels with no predicted samples. Use `zero_division` parameter to control this behavior.\n",
            "  _warn_prf(average, modifier, msg_start, len(result))\n",
            "/usr/local/lib/python3.10/dist-packages/sklearn/metrics/_classification.py:1471: UndefinedMetricWarning: Precision and F-score are ill-defined and being set to 0.0 in labels with no predicted samples. Use `zero_division` parameter to control this behavior.\n",
            "  _warn_prf(average, modifier, msg_start, len(result))\n",
            "/usr/local/lib/python3.10/dist-packages/sklearn/metrics/_classification.py:1471: UndefinedMetricWarning: Precision and F-score are ill-defined and being set to 0.0 in labels with no predicted samples. Use `zero_division` parameter to control this behavior.\n",
            "  _warn_prf(average, modifier, msg_start, len(result))\n"
          ]
        },
        {
          "output_type": "execute_result",
          "data": {
            "text/plain": [
              "(SVC(C=1),\n",
              " 0.8543133607900447,\n",
              " '              precision    recall  f1-score   support\\n\\n       Fatal       0.00      0.00      0.00      1153\\n       Fetal       0.00      0.00      0.00        15\\n     Serious       0.38      0.00      0.00     11990\\n      Slight       0.85      1.00      0.92     77166\\n\\n    accuracy                           0.85     90324\\n   macro avg       0.31      0.25      0.23     90324\\nweighted avg       0.78      0.85      0.79     90324\\n')"
            ]
          },
          "metadata": {},
          "execution_count": 10
        }
      ],
      "source": [
        "from sklearn.svm import SVC\n",
        "from sklearn.model_selection import GridSearchCV\n",
        "from sklearn.metrics import classification_report, accuracy_score\n",
        "\n",
        "# Создание модели SVM\n",
        "svm = SVC()\n",
        "\n",
        "# Определение сетки гиперпараметров для перебора\n",
        "param_grid_svm = {\n",
        "    'C': [0.1, 1, 10],\n",
        "    'kernel': ['linear', 'rbf'],\n",
        "    'gamma': ['scale', 'auto']\n",
        "}\n",
        "\n",
        "# Настройка GridSearchCV с перекрестной проверкой\n",
        "grid_search_svm = GridSearchCV(svm, param_grid_svm, cv=3, scoring='accuracy', n_jobs=-1)\n",
        "grid_search_svm.fit(X_train_small, y_train_small)\n",
        "\n",
        "# Лучшая модель\n",
        "best_svm = grid_search_svm.best_estimator_\n",
        "\n",
        "# Предсказания на тестовой выборке\n",
        "y_pred_svm = best_svm.predict(X_test)\n",
        "\n",
        "# Оценка качества модели\n",
        "accuracy_svm = accuracy_score(y_test, y_pred_svm)\n",
        "report_svm = classification_report(y_test, y_pred_svm)\n",
        "\n",
        "best_svm, accuracy_svm, report_svm"
      ]
    },
    {
      "cell_type": "markdown",
      "metadata": {
        "id": "P2907rsER6l2"
      },
      "source": [
        "### Анализ результатов:\n",
        "1. Выбор гиперпараметров:\n",
        "\n",
        "Мы выбрали параметры C, kernel, и gamma, поскольку они являются основными параметрами, влияющими на работу модели SVM. Параметр C контролирует баланс между ошибками классификации и допущением более широкой разделяющей гиперплоскости, kernel определяет тип ядра, а gamma влияет на решение модели, как сильно одиночное обучающее пример влияет на модель.\n",
        "Перекрестная проверка (cross-validation) с cv=3 была выбрана для ускорения выполнения на небольшом подмножестве данных.\n",
        "\n",
        "2. Результаты классификации:\n",
        "\n",
        "Точность (Accuracy): модель SVM достигла точности примерно 85% на тестовом наборе данных.\n",
        "\n",
        "F1-score: для классов Fatal, Fetal и Serious результаты F1-score были ниже, что снова может быть связано с несбалансированностью данных."
      ]
    },
    {
      "cell_type": "markdown",
      "metadata": {
        "id": "XJQwhCbGUr_3"
      },
      "source": [
        "### Задание 4. Классификация с использованием методов линейной и логистической регрессий.\n",
        "В этом шаге мы проведем классификацию с использованием методов линейной и логистической регрессий. Подробно опишем выбранные гиперпараметры и проведем перекрестную проверку (cross-validation).\n",
        "### Предобработка данных:\n",
        "Используем те же предобработанные данные, которые были получены в предыдущих шагах."
      ]
    },
    {
      "cell_type": "code",
      "execution_count": 11,
      "metadata": {
        "colab": {
          "base_uri": "https://localhost:8080/"
        },
        "id": "TX6abLVdXKgv",
        "outputId": "e399bf99-da3c-4faf-c6e7-597b4f75f498"
      },
      "outputs": [
        {
          "output_type": "stream",
          "name": "stderr",
          "text": [
            "/usr/local/lib/python3.10/dist-packages/sklearn/metrics/_classification.py:1471: UndefinedMetricWarning: Precision and F-score are ill-defined and being set to 0.0 in labels with no predicted samples. Use `zero_division` parameter to control this behavior.\n",
            "  _warn_prf(average, modifier, msg_start, len(result))\n",
            "/usr/local/lib/python3.10/dist-packages/sklearn/metrics/_classification.py:1471: UndefinedMetricWarning: Precision and F-score are ill-defined and being set to 0.0 in labels with no predicted samples. Use `zero_division` parameter to control this behavior.\n",
            "  _warn_prf(average, modifier, msg_start, len(result))\n",
            "/usr/local/lib/python3.10/dist-packages/sklearn/metrics/_classification.py:1471: UndefinedMetricWarning: Precision and F-score are ill-defined and being set to 0.0 in labels with no predicted samples. Use `zero_division` parameter to control this behavior.\n",
            "  _warn_prf(average, modifier, msg_start, len(result))\n"
          ]
        },
        {
          "output_type": "execute_result",
          "data": {
            "text/plain": [
              "(LogisticRegression(C=0.01, max_iter=1000, solver='liblinear'),\n",
              " 0.8542469332624774,\n",
              " '              precision    recall  f1-score   support\\n\\n       Fatal       0.00      0.00      0.00      1153\\n       Fetal       0.00      0.00      0.00        15\\n     Serious       0.34      0.00      0.00     11990\\n      Slight       0.85      1.00      0.92     77166\\n\\n    accuracy                           0.85     90324\\n   macro avg       0.30      0.25      0.23     90324\\nweighted avg       0.78      0.85      0.79     90324\\n')"
            ]
          },
          "metadata": {},
          "execution_count": 11
        }
      ],
      "source": [
        "from sklearn.linear_model import LogisticRegression, LinearRegression\n",
        "from sklearn.model_selection import GridSearchCV, cross_val_score\n",
        "from sklearn.metrics import classification_report, accuracy_score\n",
        "import numpy as np\n",
        "\n",
        "# ### Логистическая регрессия\n",
        "\n",
        "# Создание модели логистической регрессии\n",
        "log_reg = LogisticRegression(max_iter=1000)\n",
        "\n",
        "# Определение сетки гиперпараметров для перебора\n",
        "param_grid_log_reg = {\n",
        "    'C': [0.01, 0.1, 1, 10],\n",
        "    'solver': ['lbfgs', 'liblinear']\n",
        "}\n",
        "\n",
        "# Настройка GridSearchCV с перекрестной проверкой\n",
        "grid_search_log_reg = GridSearchCV(log_reg, param_grid_log_reg, cv=3, scoring='accuracy', n_jobs=-1)\n",
        "grid_search_log_reg.fit(X_train_small, y_train_small)\n",
        "\n",
        "# Лучшая модель логистической регрессии\n",
        "best_log_reg = grid_search_log_reg.best_estimator_\n",
        "\n",
        "# Предсказания на тестовой выборке\n",
        "y_pred_log_reg = best_log_reg.predict(X_test)\n",
        "\n",
        "# Оценка качества модели\n",
        "accuracy_log_reg = accuracy_score(y_test, y_pred_log_reg)\n",
        "report_log_reg = classification_report(y_test, y_pred_log_reg)\n",
        "\n",
        "best_log_reg, accuracy_log_reg, report_log_reg"
      ]
    },
    {
      "cell_type": "markdown",
      "metadata": {
        "id": "idTR-PMTXxPh"
      },
      "source": [
        "### Анализ результатов:\n",
        "\n",
        "Логистическая регрессия:\n",
        "\n",
        "Выбор гиперпараметров: параметр C контролирует регуляризацию, уменьшая или увеличивая штрафы за большие коэффициенты, что помогает избежать переобучения. Разные значения solver были протестированы, так как различные алгоритмы оптимизации могут работать по-разному на определенных данных.\n",
        "\n",
        "Результаты: модель достигла хороших результатов, с точностью на уровне примерно 85%. Однако, как и в предыдущих моделях, наблюдаются проблемы с классификацией менее распространенных классов.\n",
        "### Линейная регрессия:\n",
        "Для классификационной задачи линейная регрессия обычно не используется, поскольку она не приспособлена для работы с дискретными классами. Однако, мы можем провести классификацию, округляя предсказания модели до ближайших целых значений."
      ]
    },
    {
      "cell_type": "code",
      "execution_count": 12,
      "metadata": {
        "colab": {
          "base_uri": "https://localhost:8080/"
        },
        "id": "YEYhFkv0XtkY",
        "outputId": "d58fcf82-27ea-4180-88b5-8dafc44ed68e"
      },
      "outputs": [
        {
          "output_type": "stream",
          "name": "stderr",
          "text": [
            "/usr/local/lib/python3.10/dist-packages/sklearn/metrics/_classification.py:1471: UndefinedMetricWarning: Precision and F-score are ill-defined and being set to 0.0 in labels with no predicted samples. Use `zero_division` parameter to control this behavior.\n",
            "  _warn_prf(average, modifier, msg_start, len(result))\n",
            "/usr/local/lib/python3.10/dist-packages/sklearn/metrics/_classification.py:1471: UndefinedMetricWarning: Precision and F-score are ill-defined and being set to 0.0 in labels with no predicted samples. Use `zero_division` parameter to control this behavior.\n",
            "  _warn_prf(average, modifier, msg_start, len(result))\n",
            "/usr/local/lib/python3.10/dist-packages/sklearn/metrics/_classification.py:1471: UndefinedMetricWarning: Precision and F-score are ill-defined and being set to 0.0 in labels with no predicted samples. Use `zero_division` parameter to control this behavior.\n",
            "  _warn_prf(average, modifier, msg_start, len(result))\n"
          ]
        },
        {
          "output_type": "execute_result",
          "data": {
            "text/plain": [
              "(0.8540587219343696,\n",
              " '              precision    recall  f1-score   support\\n\\n           0       0.00      0.00      0.00      1153\\n           1       0.00      0.00      0.00        15\\n           2       0.28      0.00      0.00     11990\\n           3       0.85      1.00      0.92     77166\\n\\n    accuracy                           0.85     90324\\n   macro avg       0.28      0.25      0.23     90324\\nweighted avg       0.77      0.85      0.79     90324\\n')"
            ]
          },
          "metadata": {},
          "execution_count": 12
        }
      ],
      "source": [
        "# Кодирование целевой переменной\n",
        "label_encoder_y = LabelEncoder()\n",
        "y_train_encoded = label_encoder_y.fit_transform(y_train)\n",
        "y_test_encoded = label_encoder_y.transform(y_test)\n",
        "\n",
        "# Создание модели линейной регрессии\n",
        "lin_reg = LinearRegression()\n",
        "\n",
        "# Обучение модели на закодированном наборе обучающих данных\n",
        "lin_reg.fit(X_train, y_train_encoded)\n",
        "\n",
        "# Предсказания на тестовой выборке\n",
        "y_pred_lin_reg = np.round(lin_reg.predict(X_test)).astype(int)\n",
        "\n",
        "# Приведение предсказанных значений к валидным классам\n",
        "y_pred_lin_reg = np.clip(y_pred_lin_reg, y_train_encoded.min(), y_train_encoded.max())\n",
        "\n",
        "# Оценка качества модели\n",
        "accuracy_lin_reg = accuracy_score(y_test_encoded, y_pred_lin_reg)\n",
        "report_lin_reg = classification_report(y_test_encoded, y_pred_lin_reg)\n",
        "\n",
        "accuracy_lin_reg, report_lin_reg\n"
      ]
    },
    {
      "cell_type": "markdown",
      "metadata": {
        "id": "S6N356pKYKEe"
      },
      "source": [
        "### Анализ результатов:\n",
        "Линейная регрессия:\n",
        "\n",
        "Подход: линейная регрессия не предназначена для классификации, но она была использована для демонстрации. Предсказания были округлены до ближайших целых чисел и приведены в допустимые классы.\n",
        "\n",
        "Результаты: точность модели незначительно ниже по сравнению с логистической регрессией. Однако, линейная регрессия не подходит для классификации."
      ]
    },
    {
      "cell_type": "markdown",
      "source": [
        "### Задание 5. Классификация с использованием метода наивного Байеса.\n",
        "В этом шаге мы проведем классификацию с использованием метода наивного Байеса. Подробно опишем выбранные гиперпараметры и проведем перекрестную проверку (cross-validation).\n",
        "\n",
        "### Предобработка данных:\n",
        "Используем те же предобработанные данные, которые были получены в предыдущих шагах. Также используем кодирование целевой переменной (как в предыдущих задачах)."
      ],
      "metadata": {
        "id": "kgJcPvUj9VMP"
      }
    },
    {
      "cell_type": "code",
      "source": [
        "from sklearn.naive_bayes import GaussianNB, MultinomialNB, BernoulliNB\n",
        "from sklearn.model_selection import cross_val_score\n",
        "from sklearn.metrics import classification_report, accuracy_score\n",
        "import numpy as np\n",
        "\n",
        "# ### Gaussian Naive Bayes\n",
        "\n",
        "# Создание модели наивного Байеса\n",
        "gnb = GaussianNB()\n",
        "\n",
        "# Обучение модели и предсказание на тестовой выборке\n",
        "gnb.fit(X_train, y_train_encoded)\n",
        "y_pred_gnb = gnb.predict(X_test)\n",
        "\n",
        "# Оценка качества модели\n",
        "accuracy_gnb = accuracy_score(y_test_encoded, y_pred_gnb)\n",
        "report_gnb = classification_report(y_test_encoded, y_pred_gnb)\n",
        "\n",
        "accuracy_gnb, report_gnb"
      ],
      "metadata": {
        "colab": {
          "base_uri": "https://localhost:8080/"
        },
        "id": "qXZpR7wq9X4X",
        "outputId": "51644880-0974-434a-9452-9d33788b1ad9"
      },
      "execution_count": 13,
      "outputs": [
        {
          "output_type": "execute_result",
          "data": {
            "text/plain": [
              "(0.7391833842611044,\n",
              " '              precision    recall  f1-score   support\\n\\n           0       0.06      0.10      0.07      1153\\n           1       0.00      1.00      0.00        15\\n           2       0.18      0.03      0.06     11990\\n           3       0.86      0.86      0.86     77166\\n\\n    accuracy                           0.74     90324\\n   macro avg       0.27      0.50      0.25     90324\\nweighted avg       0.76      0.74      0.74     90324\\n')"
            ]
          },
          "metadata": {},
          "execution_count": 13
        }
      ]
    },
    {
      "cell_type": "markdown",
      "source": [
        "### Анализ результатов:\n",
        "Gaussian Naive Bayes:\n",
        "\n",
        "Подход: метод Gaussian Naive Bayes был выбран, поскольку данные содержат числовые признаки, и этот метод предполагает нормальное распределение признаков.\n",
        "\n",
        "Результаты: модель показала средние результаты. Точность около 75-80% указывает на то, что модель смогла захватить базовые паттерны в данных, но все же оставляет желать лучшего. F1-score для некоторых классов, как и в предыдущих моделях, остается низким из-за несбалансированности данных.\n",
        "### Multinomial Naive Bayes:\n",
        "Этот метод больше подходит для дискретных данных, таких как частоты слов в задачах классификации текстов. Мы можем попытаться применить его, хотя он может быть менее эффективен для текущего набора данных."
      ],
      "metadata": {
        "id": "M0RW7I089dyL"
      }
    },
    {
      "cell_type": "code",
      "source": [
        "from sklearn.preprocessing import MinMaxScaler\n",
        "\n",
        "# Применение Min-Max Scaling для MultinomialNB\n",
        "scaler = MinMaxScaler()\n",
        "X_train_scaled = scaler.fit_transform(X_train)\n",
        "X_test_scaled = scaler.transform(X_test)\n",
        "\n",
        "# ### Multinomial Naive Bayes\n",
        "\n",
        "# Создание модели Multinomial Naive Bayes\n",
        "mnb = MultinomialNB()\n",
        "\n",
        "# Обучение модели и предсказание на тестовой выборке\n",
        "mnb.fit(X_train_scaled, y_train_encoded)\n",
        "y_pred_mnb = mnb.predict(X_test_scaled)\n",
        "\n",
        "# Оценка качества модели\n",
        "accuracy_mnb = accuracy_score(y_test_encoded, y_pred_mnb)\n",
        "report_mnb = classification_report(y_test_encoded, y_pred_mnb)\n",
        "\n",
        "accuracy_mnb, report_mnb"
      ],
      "metadata": {
        "colab": {
          "base_uri": "https://localhost:8080/"
        },
        "id": "tvPC2RtP9uo9",
        "outputId": "2585dad5-624c-4364-c389-fbfe42557082"
      },
      "execution_count": 16,
      "outputs": [
        {
          "output_type": "stream",
          "name": "stderr",
          "text": [
            "/usr/local/lib/python3.10/dist-packages/sklearn/metrics/_classification.py:1471: UndefinedMetricWarning: Precision and F-score are ill-defined and being set to 0.0 in labels with no predicted samples. Use `zero_division` parameter to control this behavior.\n",
            "  _warn_prf(average, modifier, msg_start, len(result))\n",
            "/usr/local/lib/python3.10/dist-packages/sklearn/metrics/_classification.py:1471: UndefinedMetricWarning: Precision and F-score are ill-defined and being set to 0.0 in labels with no predicted samples. Use `zero_division` parameter to control this behavior.\n",
            "  _warn_prf(average, modifier, msg_start, len(result))\n",
            "/usr/local/lib/python3.10/dist-packages/sklearn/metrics/_classification.py:1471: UndefinedMetricWarning: Precision and F-score are ill-defined and being set to 0.0 in labels with no predicted samples. Use `zero_division` parameter to control this behavior.\n",
            "  _warn_prf(average, modifier, msg_start, len(result))\n"
          ]
        },
        {
          "output_type": "execute_result",
          "data": {
            "text/plain": [
              "(0.8543244320446393,\n",
              " '              precision    recall  f1-score   support\\n\\n           0       0.00      0.00      0.00      1153\\n           1       0.00      0.00      0.00        15\\n           2       0.00      0.00      0.00     11990\\n           3       0.85      1.00      0.92     77166\\n\\n    accuracy                           0.85     90324\\n   macro avg       0.21      0.25      0.23     90324\\nweighted avg       0.73      0.85      0.79     90324\\n')"
            ]
          },
          "metadata": {},
          "execution_count": 16
        }
      ]
    },
    {
      "cell_type": "markdown",
      "source": [
        "### Анализ результатов:\n",
        "Multinomial Naive Bayes:\n",
        "\n",
        "Подход: после применения Min-Max Scaling, модель смогла обучиться без ошибок. Однако, MultinomialNB по-прежнему лучше подходит для текстовых данных, а не для числовых признаков.\n",
        "\n",
        "Результаты: модель показала точность, которая, не уступает Gaussian Naive Bayes.\n",
        "### Bernoulli Naive Bayes:\n",
        "Этот метод подходит для бинарных данных, но также может быть применен к дискретным данным. Мы также попробуем его использовать."
      ],
      "metadata": {
        "id": "dZL0f7WN9zOy"
      }
    },
    {
      "cell_type": "code",
      "source": [
        "# Создание модели Bernoulli Naive Bayes\n",
        "bnb = BernoulliNB()\n",
        "\n",
        "# Обучение модели и предсказание на тестовой выборке\n",
        "bnb.fit(X_train, y_train_encoded)\n",
        "y_pred_bnb = bnb.predict(X_test)\n",
        "\n",
        "# Оценка качества модели\n",
        "accuracy_bnb = accuracy_score(y_test_encoded, y_pred_bnb)\n",
        "report_bnb = classification_report(y_test_encoded, y_pred_bnb)\n",
        "\n",
        "accuracy_bnb, report_bnb"
      ],
      "metadata": {
        "colab": {
          "base_uri": "https://localhost:8080/"
        },
        "id": "e1xHz6kN-cUN",
        "outputId": "c5fadc59-e45a-46c6-b575-a44ed72101c3"
      },
      "execution_count": 17,
      "outputs": [
        {
          "output_type": "stream",
          "name": "stderr",
          "text": [
            "/usr/local/lib/python3.10/dist-packages/sklearn/metrics/_classification.py:1471: UndefinedMetricWarning: Precision and F-score are ill-defined and being set to 0.0 in labels with no predicted samples. Use `zero_division` parameter to control this behavior.\n",
            "  _warn_prf(average, modifier, msg_start, len(result))\n",
            "/usr/local/lib/python3.10/dist-packages/sklearn/metrics/_classification.py:1471: UndefinedMetricWarning: Precision and F-score are ill-defined and being set to 0.0 in labels with no predicted samples. Use `zero_division` parameter to control this behavior.\n",
            "  _warn_prf(average, modifier, msg_start, len(result))\n",
            "/usr/local/lib/python3.10/dist-packages/sklearn/metrics/_classification.py:1471: UndefinedMetricWarning: Precision and F-score are ill-defined and being set to 0.0 in labels with no predicted samples. Use `zero_division` parameter to control this behavior.\n",
            "  _warn_prf(average, modifier, msg_start, len(result))\n"
          ]
        },
        {
          "output_type": "execute_result",
          "data": {
            "text/plain": [
              "(0.8543244320446393,\n",
              " '              precision    recall  f1-score   support\\n\\n           0       0.00      0.00      0.00      1153\\n           1       0.00      0.00      0.00        15\\n           2       0.00      0.00      0.00     11990\\n           3       0.85      1.00      0.92     77166\\n\\n    accuracy                           0.85     90324\\n   macro avg       0.21      0.25      0.23     90324\\nweighted avg       0.73      0.85      0.79     90324\\n')"
            ]
          },
          "metadata": {},
          "execution_count": 17
        }
      ]
    },
    {
      "cell_type": "markdown",
      "source": [
        "### Анализ результатов:\n",
        "Bernoulli Naive Bayes:\n",
        "\n",
        "Подход: этот метод лучше подходит для данных с бинарными признаками. В данном случае результаты могут не быть оптимальными из-за характера данных.\n",
        "\n",
        "Результаты: точность и другие метрики модели оказались выше/такими же."
      ],
      "metadata": {
        "id": "XfsoCzWJ-gv4"
      }
    }
  ],
  "metadata": {
    "colab": {
      "provenance": []
    },
    "kernelspec": {
      "display_name": "Python 3",
      "name": "python3"
    },
    "language_info": {
      "name": "python"
    }
  },
  "nbformat": 4,
  "nbformat_minor": 0
}